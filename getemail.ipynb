{
 "cells": [
  {
   "cell_type": "code",
   "execution_count": null,
   "metadata": {},
   "outputs": [],
   "source": [
    "# noexport\n",
    "!typech getemail.ipynb"
   ]
  },
  {
   "cell_type": "code",
   "execution_count": null,
   "metadata": {},
   "outputs": [],
   "source": [
    "import imaplib, email, os\n",
    "from getsecret import getsecret\n",
    "user = getsecret('email_address')\n",
    "password = getsecret('email_password')\n",
    "imap_url = getsecret('email_server')\n",
    "connection = imaplib.IMAP4_SSL(imap_url)\n",
    "connection.login(user, password)\n",
    "connection.select()"
   ]
  },
  {
   "cell_type": "code",
   "execution_count": null,
   "metadata": {},
   "outputs": [],
   "source": [
    "from flask import Flask\n",
    "app = Flask(__name__)\n",
    "\n",
    "@app.route('/')\n",
    "def hello_world():\n",
    "  return 'Nothing to see here'\n",
    "\n",
    "@app.route('/get_emails_cs377u')\n",
    "def get_emails_cs377u():\n",
    "  messages = []\n",
    "  result, data = connection.uid('search', None, \"ALL\")\n",
    "  # search and return uids instead\n",
    "  i = len(data[0].split()) # data[0] is a space separate string\n",
    "  for x in range(i):\n",
    "    latest_email_uid = data[0].split()[x] # unique ids wrt label selected\n",
    "    result, email_data = connection.uid('fetch', latest_email_uid, '(RFC822)')\n",
    "    # fetch the email body (RFC822) for the given ID\n",
    "    raw_email = email_data[0][1]\n",
    "    email_message = email.message_from_bytes(raw_email)\n",
    "    message = []\n",
    "    message.append('From: ' + email_message['From'])\n",
    "    message.append('Subject: ' + email_message['Subject'])\n",
    "    message.append('Date: ' + email_message['Date'])\n",
    "    #raw_email_string = raw_email.decode('utf-8')\n",
    "    #print(raw_email_string)\n",
    "    #email_message = email.message_from_string(raw_email_string)\n",
    "    # this will loop through all the available multiparts in mail\n",
    "    for part in email_message.walk():\n",
    "     if part.get_content_type() == \"text/plain\": # ignore attachments/html\n",
    "      body = part.get_payload()\n",
    "      message.append(body)\n",
    "      #print(body.decode('utf-8'))\n",
    "      #save_string = str(\"D:Dumpgmailemail_\" + str(x) + \".eml\")\n",
    "      # location on disk\n",
    "      #myfile = open(save_string, 'a')\n",
    "      #myfile.write(body.decode('utf-8'))\n",
    "      # body is again a byte literal\n",
    "      #myfile.close()\n",
    "     else:\n",
    "      continue\n",
    "    messages.append('<br>'.join(message))\n",
    "  return '<br><br>'.join(messages)\n",
    "\n",
    "if __name__ == '__main__':\n",
    "  app.run()\n"
   ]
  },
  {
   "cell_type": "code",
   "execution_count": null,
   "metadata": {},
   "outputs": [],
   "source": []
  }
 ],
 "metadata": {
  "kernelspec": {
   "display_name": "Python 3",
   "language": "python",
   "name": "python3"
  },
  "language_info": {
   "codemirror_mode": {
    "name": "ipython",
    "version": 3
   },
   "file_extension": ".py",
   "mimetype": "text/x-python",
   "name": "python",
   "nbconvert_exporter": "python",
   "pygments_lexer": "ipython3",
   "version": "3.7.2"
  }
 },
 "nbformat": 4,
 "nbformat_minor": 2
}
